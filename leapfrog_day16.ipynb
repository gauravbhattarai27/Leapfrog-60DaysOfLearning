{
  "nbformat": 4,
  "nbformat_minor": 0,
  "metadata": {
    "colab": {
      "provenance": []
    },
    "kernelspec": {
      "name": "python3",
      "display_name": "Python 3"
    },
    "language_info": {
      "name": "python"
    }
  },
  "cells": [
    {
      "cell_type": "markdown",
      "source": [
        "# Day 16 – Hyperparameter Tuning using GridSearchCV and RandomizedSearchCV\n",
        "\n",
        "## What is Hyperparameter Tuning?\n",
        "\n",
        "Hyperparameters are external configurations to a model that are **not learned during training** (e.g., `n_estimators`, `max_depth`, `C`, `learning_rate`).\n",
        "\n",
        "Tuning these hyperparameters is crucial to:\n",
        "- Improve model performance\n",
        "- Avoid overfitting/underfitting\n",
        "- Optimize training time and generalization\n",
        "\n",
        "---\n",
        "\n",
        "## Two Common Methods in Scikit-learn\n",
        "\n",
        "### 1. GridSearchCV\n",
        "- Performs an **exhaustive search** over a specified parameter grid.\n",
        "- Tries **every combination** of hyperparameters.\n",
        "- Uses **cross-validation** to evaluate performance.\n",
        "\n",
        "**Pros**: Finds the best set within the grid  \n",
        "**Cons**: Computationally expensive when grid is large\n",
        "\n",
        "\n"
      ],
      "metadata": {
        "id": "B7XBav5yk9ls"
      }
    },
    {
      "cell_type": "markdown",
      "source": [
        "### 2. RandomizedSearchCV in Scikit-learn\n",
        "\n",
        "## Overview\n",
        "\n",
        "`RandomizedSearchCV` is a technique used for **hyperparameter tuning** by randomly sampling a **fixed number of parameter combinations** from a specified distribution.\n",
        "\n",
        "Unlike `GridSearchCV` (which tries all combinations), `RandomizedSearchCV`:\n",
        "- Samples combinations randomly\n",
        "- Is faster for large hyperparameter spaces\n",
        "- Can find a good combination with fewer iterations\n",
        "\n",
        "---\n",
        "\n",
        "## When to Use\n",
        "\n",
        "- When the hyperparameter space is **very large**\n",
        "- When **training time is expensive**\n",
        "- When **approximate solutions** are acceptable\n",
        "\n",
        "---\n",
        "\n"
      ],
      "metadata": {
        "id": "a-Qr6lddlfhW"
      }
    },
    {
      "cell_type": "code",
      "execution_count": 1,
      "metadata": {
        "colab": {
          "base_uri": "https://localhost:8080/"
        },
        "id": "aeTVrgWikdg_",
        "outputId": "331bf7fe-31bf-442c-9c2d-584189805f47"
      },
      "outputs": [
        {
          "output_type": "stream",
          "name": "stdout",
          "text": [
            "Best Parameters from GridSearchCV:\n",
            "{'max_depth': None, 'min_samples_split': 2, 'n_estimators': 100}\n",
            "\n",
            "Classification Report (GridSearchCV):\n",
            "              precision    recall  f1-score   support\n",
            "\n",
            "           0       1.00      1.00      1.00        19\n",
            "           1       1.00      1.00      1.00        13\n",
            "           2       1.00      1.00      1.00        13\n",
            "\n",
            "    accuracy                           1.00        45\n",
            "   macro avg       1.00      1.00      1.00        45\n",
            "weighted avg       1.00      1.00      1.00        45\n",
            "\n",
            "\n",
            "Best Parameters from RandomizedSearchCV:\n",
            "{'n_estimators': np.int64(110), 'min_samples_split': np.int64(10), 'max_depth': 5}\n",
            "\n",
            "Classification Report (RandomizedSearchCV):\n",
            "              precision    recall  f1-score   support\n",
            "\n",
            "           0       1.00      1.00      1.00        19\n",
            "           1       1.00      1.00      1.00        13\n",
            "           2       1.00      1.00      1.00        13\n",
            "\n",
            "    accuracy                           1.00        45\n",
            "   macro avg       1.00      1.00      1.00        45\n",
            "weighted avg       1.00      1.00      1.00        45\n",
            "\n"
          ]
        }
      ],
      "source": [
        "# Day 16 – Hyperparameter Tuning using GridSearchCV and RandomizedSearchCV\n",
        "\n",
        "from sklearn.datasets import load_iris\n",
        "from sklearn.ensemble import RandomForestClassifier\n",
        "from sklearn.model_selection import train_test_split, GridSearchCV, RandomizedSearchCV\n",
        "from sklearn.metrics import classification_report\n",
        "import numpy as np\n",
        "\n",
        "# Load Iris dataset\n",
        "iris = load_iris()\n",
        "X, y = iris.data, iris.target\n",
        "\n",
        "# Train-test split\n",
        "X_train, X_test, y_train, y_test = train_test_split(X, y, test_size=0.3, random_state=42)\n",
        "\n",
        "# Base model\n",
        "rf = RandomForestClassifier(random_state=42)\n",
        "\n",
        "# GridSearchCV: exhaustive parameter search\n",
        "param_grid = {\n",
        "    'n_estimators': [50, 100, 150],\n",
        "    'max_depth': [None, 3, 5, 10],\n",
        "    'min_samples_split': [2, 5, 10]\n",
        "}\n",
        "grid_search = GridSearchCV(estimator=rf, param_grid=param_grid, cv=5, scoring='accuracy')\n",
        "grid_search.fit(X_train, y_train)\n",
        "\n",
        "print(\"Best Parameters from GridSearchCV:\")\n",
        "print(grid_search.best_params_)\n",
        "\n",
        "# Evaluate on test set\n",
        "y_pred_grid = grid_search.predict(X_test)\n",
        "print(\"\\nClassification Report (GridSearchCV):\")\n",
        "print(classification_report(y_test, y_pred_grid))\n",
        "\n",
        "# RandomizedSearchCV: random sampling from param distributions\n",
        "param_dist = {\n",
        "    'n_estimators': np.arange(50, 200, 10),\n",
        "    'max_depth': [None, 3, 5, 10, 15],\n",
        "    'min_samples_split': np.arange(2, 11)\n",
        "}\n",
        "random_search = RandomizedSearchCV(estimator=rf, param_distributions=param_dist,\n",
        "                                   n_iter=10, cv=5, random_state=42, scoring='accuracy')\n",
        "random_search.fit(X_train, y_train)\n",
        "\n",
        "print(\"\\nBest Parameters from RandomizedSearchCV:\")\n",
        "print(random_search.best_params_)\n",
        "\n",
        "# Evaluate on test set\n",
        "y_pred_random = random_search.predict(X_test)\n",
        "print(\"\\nClassification Report (RandomizedSearchCV):\")\n",
        "print(classification_report(y_test, y_pred_random))\n"
      ]
    },
    {
      "cell_type": "markdown",
      "source": [
        "Final Observations\n",
        "\n",
        "    Both tuning methods yielded 100% accuracy on the test set.\n",
        "\n",
        "    Indicates that the dataset is well-separated and Random Forest is highly effective for this task.\n",
        "\n",
        "    While both approaches gave perfect scores, RandomizedSearchCV found a more regularized model (max_depth=5, min_samples_split=10), which might generalize better."
      ],
      "metadata": {
        "id": "e5T9sLeNlRQx"
      }
    },
    {
      "cell_type": "code",
      "source": [],
      "metadata": {
        "id": "iL0iZJSGlcZ9"
      },
      "execution_count": null,
      "outputs": []
    }
  ]
}