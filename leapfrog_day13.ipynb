{
  "nbformat": 4,
  "nbformat_minor": 0,
  "metadata": {
    "colab": {
      "provenance": []
    },
    "kernelspec": {
      "name": "python3",
      "display_name": "Python 3"
    },
    "language_info": {
      "name": "python"
    }
  },
  "cells": [
    {
      "cell_type": "markdown",
      "source": [
        "# Day 13 – K-Nearest Neighbors (KNN)\n",
        "\n",
        "## What is KNN?\n",
        "\n",
        "K-Nearest Neighbors (KNN) is a **supervised learning algorithm** used for both **classification and regression**.  \n",
        "It works by finding the **K closest training samples** (neighbors) to a test sample and assigning the most common label (for classification) or the average value (for regression).\n",
        "\n",
        "---\n",
        "\n",
        "## How KNN Works\n",
        "\n",
        "1. Choose the number of neighbors **K**.\n",
        "2. Calculate the **distance** between the new data point and all training points (usually using **Euclidean distance**).\n",
        "3. Select the **K nearest points**.\n",
        "4. For classification, assign the **majority class** among the neighbors.\n",
        "\n",
        "---\n",
        "\n",
        "## Important Parameters\n",
        "\n",
        "- `n_neighbors`: Number of neighbors to consider.\n",
        "- `metric`: Distance metric (e.g., `'euclidean'`, `'manhattan'`).\n",
        "- `weights`: `'uniform'` (equal vote) or `'distance'` (closer neighbors have more influence).\n",
        "\n",
        "---\n",
        "\n",
        "## Advantages\n",
        "\n",
        "- Simple and intuitive.\n",
        "- No training phase (lazy learner).\n",
        "- Naturally handles multi-class problems.\n",
        "\n",
        "---\n",
        "\n",
        "## Disadvantages\n",
        "\n",
        "- Slow for large datasets (requires computing distance to all points).\n",
        "- Sensitive to irrelevant or scaled features.\n",
        "- Performance depends on the choice of K.\n",
        "\n",
        "---\n",
        "\n",
        "## When to Use KNN?\n",
        "\n",
        "- When you need a simple, interpretable model.\n",
        "- When the dataset is small and clean.\n",
        "- When the decision boundary is non-linear and flexible.\n",
        "\n",
        "---\n",
        "\n",
        "## Evaluation Metrics for Classification\n",
        "\n",
        "- **Accuracy**\n",
        "- **Precision, Recall, F1-Score**\n",
        "- **Confusion Matrix**\n",
        "- **Cross-Validation Score**\n",
        "\n",
        "---\n",
        "\n",
        "\n"
      ],
      "metadata": {
        "id": "XVZK6FpJCajg"
      }
    },
    {
      "cell_type": "code",
      "source": [
        "## Python Example\n",
        "\n",
        "\n",
        "from sklearn.datasets import load_iris\n",
        "from sklearn.model_selection import train_test_split\n",
        "from sklearn.neighbors import KNeighborsClassifier\n",
        "from sklearn.metrics import accuracy_score, classification_report\n",
        "\n",
        "# Load data\n",
        "iris = load_iris()\n",
        "X, y = iris.data, iris.target\n",
        "\n",
        "# Split data\n",
        "X_train, X_test, y_train, y_test = train_test_split(X, y, test_size=0.3, random_state=42)\n",
        "\n",
        "# Train KNN\n",
        "knn = KNeighborsClassifier(n_neighbors=3)\n",
        "knn.fit(X_train, y_train)\n",
        "\n",
        "# Predict and evaluate\n",
        "y_pred = knn.predict(X_test)\n",
        "print(\"Accuracy:\", accuracy_score(y_test, y_pred))\n",
        "print(\"Classification Report:\\n\", classification_report(y_test, y_pred))"
      ],
      "metadata": {
        "colab": {
          "base_uri": "https://localhost:8080/"
        },
        "id": "y05j_KJnClb3",
        "outputId": "b2d0c10e-54c8-4b24-d59f-9136d194e62f"
      },
      "execution_count": null,
      "outputs": [
        {
          "output_type": "stream",
          "name": "stdout",
          "text": [
            "Accuracy: 1.0\n",
            "Classification Report:\n",
            "               precision    recall  f1-score   support\n",
            "\n",
            "           0       1.00      1.00      1.00        19\n",
            "           1       1.00      1.00      1.00        13\n",
            "           2       1.00      1.00      1.00        13\n",
            "\n",
            "    accuracy                           1.00        45\n",
            "   macro avg       1.00      1.00      1.00        45\n",
            "weighted avg       1.00      1.00      1.00        45\n",
            "\n"
          ]
        }
      ]
    },
    {
      "cell_type": "code",
      "source": [
        "from sklearn.model_selection import cross_val_score\n",
        "import numpy as np\n",
        "\n",
        "scores = cross_val_score(knn, X, y, cv=5, scoring='accuracy')\n",
        "print(\"Cross-validation scores:\", scores)\n",
        "print(\"Mean accuracy:\", np.mean(scores))\n"
      ],
      "metadata": {
        "colab": {
          "base_uri": "https://localhost:8080/"
        },
        "id": "zGlE-L8UCqGo",
        "outputId": "75a8751c-22a4-45b3-c132-3757c5c52a4b"
      },
      "execution_count": null,
      "outputs": [
        {
          "output_type": "stream",
          "name": "stdout",
          "text": [
            "Cross-validation scores: [0.96666667 0.96666667 0.93333333 0.96666667 1.        ]\n",
            "Mean accuracy: 0.9666666666666668\n"
          ]
        }
      ]
    },
    {
      "cell_type": "code",
      "source": [
        "from sklearn.metrics import confusion_matrix, ConfusionMatrixDisplay\n",
        "import matplotlib.pyplot as plt\n",
        "\n",
        "cm = confusion_matrix(y_test, y_pred)\n",
        "disp = ConfusionMatrixDisplay(confusion_matrix=cm, display_labels=iris.target_names)\n",
        "disp.plot()\n",
        "plt.show()\n"
      ],
      "metadata": {
        "colab": {
          "base_uri": "https://localhost:8080/",
          "height": 449
        },
        "id": "yGZ76IERDGM2",
        "outputId": "48a20945-eedf-4a89-f3c6-8a6ed0115716"
      },
      "execution_count": null,
      "outputs": [
        {
          "output_type": "display_data",
          "data": {
            "text/plain": [
              "<Figure size 640x480 with 2 Axes>"
            ],
            "image/png": "[encoded data removed]"
          },
          "metadata": {}
        }
      ]
    },
    {
      "cell_type": "code",
      "source": [],
      "metadata": {
        "id": "RrgTJAmZDgyE"
      },
      "execution_count": null,
      "outputs": []
    }
  ]
}