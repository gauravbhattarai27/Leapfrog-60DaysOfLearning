{
  "nbformat": 4,
  "nbformat_minor": 0,
  "metadata": {
    "colab": {
      "provenance": []
    },
    "kernelspec": {
      "name": "python3",
      "display_name": "Python 3"
    },
    "language_info": {
      "name": "python"
    }
  },
  "cells": [
    {
      "cell_type": "code",
      "execution_count": 1,
      "metadata": {
        "colab": {
          "base_uri": "https://localhost:8080/"
        },
        "id": "PIYgjzXCLhzY",
        "outputId": "d6c242f4-1ad2-410c-e830-6e35139b13fe"
      },
      "outputs": [
        {
          "output_type": "stream",
          "name": "stdout",
          "text": [
            "Requirement already satisfied: requests in /usr/local/lib/python3.11/dist-packages (2.32.3)\n",
            "Requirement already satisfied: beautifulsoup4 in /usr/local/lib/python3.11/dist-packages (4.13.4)\n",
            "Requirement already satisfied: charset-normalizer<4,>=2 in /usr/local/lib/python3.11/dist-packages (from requests) (3.4.2)\n",
            "Requirement already satisfied: idna<4,>=2.5 in /usr/local/lib/python3.11/dist-packages (from requests) (3.10)\n",
            "Requirement already satisfied: urllib3<3,>=1.21.1 in /usr/local/lib/python3.11/dist-packages (from requests) (2.4.0)\n",
            "Requirement already satisfied: certifi>=2017.4.17 in /usr/local/lib/python3.11/dist-packages (from requests) (2025.4.26)\n",
            "Requirement already satisfied: soupsieve>1.2 in /usr/local/lib/python3.11/dist-packages (from beautifulsoup4) (2.7)\n",
            "Requirement already satisfied: typing-extensions>=4.0.0 in /usr/local/lib/python3.11/dist-packages (from beautifulsoup4) (4.14.0)\n"
          ]
        }
      ],
      "source": [
        "pip install requests beautifulsoup4\n"
      ]
    },
    {
      "cell_type": "markdown",
      "source": [
        "\n",
        "\n",
        "```\n",
        "# This is formatted as code\n",
        "```\n",
        "\n",
        "# Basic Scraper Example"
      ],
      "metadata": {
        "id": "Y91bu8UhMAiL"
      }
    },
    {
      "cell_type": "code",
      "source": [
        "import requests\n",
        "from bs4 import BeautifulSoup\n",
        "\n",
        "# Step 1: Get the HTML content\n",
        "url = \"https://quotes.toscrape.com\"\n",
        "response = requests.get(url)\n",
        "\n",
        "# Step 2: Parse the content using BeautifulSoup\n",
        "soup = BeautifulSoup(response.text, 'html.parser')\n",
        "\n",
        "# Step 3: Extract quotes\n",
        "quotes = soup.find_all(\"span\", class_=\"text\")\n",
        "\n",
        "# Step 4: Print each quote\n",
        "for i, quote in enumerate(quotes, start=1):\n",
        "    print(f\"{i}. {quote.text}\")\n"
      ],
      "metadata": {
        "colab": {
          "base_uri": "https://localhost:8080/"
        },
        "id": "V8bFckEULllC",
        "outputId": "9bedf47d-a7fb-4b51-eb9b-7703afd05df2"
      },
      "execution_count": 2,
      "outputs": [
        {
          "output_type": "stream",
          "name": "stdout",
          "text": [
            "1. “The world as we have created it is a process of our thinking. It cannot be changed without changing our thinking.”\n",
            "2. “It is our choices, Harry, that show what we truly are, far more than our abilities.”\n",
            "3. “There are only two ways to live your life. One is as though nothing is a miracle. The other is as though everything is a miracle.”\n",
            "4. “The person, be it gentleman or lady, who has not pleasure in a good novel, must be intolerably stupid.”\n",
            "5. “Imperfection is beauty, madness is genius and it's better to be absolutely ridiculous than absolutely boring.”\n",
            "6. “Try not to become a man of success. Rather become a man of value.”\n",
            "7. “It is better to be hated for what you are than to be loved for what you are not.”\n",
            "8. “I have not failed. I've just found 10,000 ways that won't work.”\n",
            "9. “A woman is like a tea bag; you never know how strong it is until it's in hot water.”\n",
            "10. “A day without sunshine is like, you know, night.”\n"
          ]
        }
      ]
    },
    {
      "cell_type": "markdown",
      "source": [
        "# Scrape Book Titles, Prices & Stock Status"
      ],
      "metadata": {
        "id": "eQ0qDdpSLqx1"
      }
    },
    {
      "cell_type": "code",
      "source": [
        "import requests\n",
        "from bs4 import BeautifulSoup\n",
        "\n",
        "url = \"https://books.toscrape.com\"\n",
        "response = requests.get(url)\n",
        "soup = BeautifulSoup(response.text, 'html.parser')\n",
        "\n",
        "books = soup.find_all(\"article\", class_=\"product_pod\")\n",
        "\n",
        "for book in books:\n",
        "    title = book.h3.a['title']\n",
        "    price = book.find(\"p\", class_=\"price_color\").text\n",
        "    stock = book.find(\"p\", class_=\"instock availability\").text.strip()\n",
        "    print(f\"📘 {title} | 💰 {price} | 📦 {stock}\")\n"
      ],
      "metadata": {
        "colab": {
          "base_uri": "https://localhost:8080/"
        },
        "id": "3QuYdZ5wMKLF",
        "outputId": "ab9b1b39-cd87-4af2-83b0-8416e4cfdf9e"
      },
      "execution_count": 3,
      "outputs": [
        {
          "output_type": "stream",
          "name": "stdout",
          "text": [
            "📘 A Light in the Attic | 💰 Â£51.77 | 📦 In stock\n",
            "📘 Tipping the Velvet | 💰 Â£53.74 | 📦 In stock\n",
            "📘 Soumission | 💰 Â£50.10 | 📦 In stock\n",
            "📘 Sharp Objects | 💰 Â£47.82 | 📦 In stock\n",
            "📘 Sapiens: A Brief History of Humankind | 💰 Â£54.23 | 📦 In stock\n",
            "📘 The Requiem Red | 💰 Â£22.65 | 📦 In stock\n",
            "📘 The Dirty Little Secrets of Getting Your Dream Job | 💰 Â£33.34 | 📦 In stock\n",
            "📘 The Coming Woman: A Novel Based on the Life of the Infamous Feminist, Victoria Woodhull | 💰 Â£17.93 | 📦 In stock\n",
            "📘 The Boys in the Boat: Nine Americans and Their Epic Quest for Gold at the 1936 Berlin Olympics | 💰 Â£22.60 | 📦 In stock\n",
            "📘 The Black Maria | 💰 Â£52.15 | 📦 In stock\n",
            "📘 Starving Hearts (Triangular Trade Trilogy, #1) | 💰 Â£13.99 | 📦 In stock\n",
            "📘 Shakespeare's Sonnets | 💰 Â£20.66 | 📦 In stock\n",
            "📘 Set Me Free | 💰 Â£17.46 | 📦 In stock\n",
            "📘 Scott Pilgrim's Precious Little Life (Scott Pilgrim #1) | 💰 Â£52.29 | 📦 In stock\n",
            "📘 Rip it Up and Start Again | 💰 Â£35.02 | 📦 In stock\n",
            "📘 Our Band Could Be Your Life: Scenes from the American Indie Underground, 1981-1991 | 💰 Â£57.25 | 📦 In stock\n",
            "📘 Olio | 💰 Â£23.88 | 📦 In stock\n",
            "📘 Mesaerion: The Best Science Fiction Stories 1800-1849 | 💰 Â£37.59 | 📦 In stock\n",
            "📘 Libertarianism for Beginners | 💰 Â£51.33 | 📦 In stock\n",
            "📘 It's Only the Himalayas | 💰 Â£45.17 | 📦 In stock\n"
          ]
        }
      ]
    },
    {
      "cell_type": "markdown",
      "source": [
        "# Scrape Headings from a Wikipedia Page"
      ],
      "metadata": {
        "id": "NlNLEgu_MNuW"
      }
    },
    {
      "cell_type": "code",
      "source": [
        "import requests\n",
        "from bs4 import BeautifulSoup\n",
        "\n",
        "url = \"https://en.wikipedia.org/wiki/Python_(programming_language)\"\n",
        "response = requests.get(url)\n",
        "soup = BeautifulSoup(response.text, 'html.parser')\n",
        "\n",
        "headings = soup.find_all(['h2', 'h3'])\n",
        "\n",
        "for heading in headings:\n",
        "    print(heading.text.strip())\n"
      ],
      "metadata": {
        "colab": {
          "base_uri": "https://localhost:8080/"
        },
        "id": "u5erbTm0MSxy",
        "outputId": "9d8793b2-fd8d-4702-8f07-5ec2e3cd177f"
      },
      "execution_count": 5,
      "outputs": [
        {
          "output_type": "stream",
          "name": "stdout",
          "text": [
            "Contents\n",
            "History\n",
            "Design philosophy and features\n",
            "Syntax and semantics\n",
            "Indentation\n",
            "Statements and control flow\n",
            "Expressions\n",
            "Methods\n",
            "Typing\n",
            "Arithmetic operations\n",
            "Function syntax\n",
            "Code examples\n",
            "Libraries\n",
            "Development environments\n",
            "Implementations\n",
            "Reference implementation\n",
            "Other implementations\n",
            "Unsupported implementations\n",
            "Cross-compilers to other languages\n",
            "Performance\n",
            "Language Development\n",
            "API documentation generators\n",
            "Naming\n",
            "Popularity\n",
            "Types of Use\n",
            "Languages influenced by Python\n",
            "See also\n",
            "Notes\n",
            "References\n",
            "Sources\n",
            "Further reading\n",
            "External links\n"
          ]
        }
      ]
    },
    {
      "cell_type": "code",
      "source": [],
      "metadata": {
        "id": "NTcBtgjPMWqF"
      },
      "execution_count": null,
      "outputs": []
    }
  ]
}