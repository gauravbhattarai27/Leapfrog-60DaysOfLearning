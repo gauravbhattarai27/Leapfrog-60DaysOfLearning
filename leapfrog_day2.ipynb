{
  "nbformat": 4,
  "nbformat_minor": 0,
  "metadata": {
    "colab": {
      "provenance": []
    },
    "kernelspec": {
      "name": "python3",
      "display_name": "Python 3"
    },
    "language_info": {
      "name": "python"
    }
  },
  "cells": [
    {
      "cell_type": "code",
      "execution_count": 1,
      "metadata": {
        "colab": {
          "base_uri": "https://localhost:8080/"
        },
        "id": "eZEoUxIIj8c4",
        "outputId": "97f68a8b-8c1a-4014-ad8b-759cf379aa9c"
      },
      "outputs": [
        {
          "output_type": "stream",
          "name": "stdout",
          "text": [
            "Dot product (manual): 11\n"
          ]
        }
      ],
      "source": [
        "# Day 2: Linear Algebra Basics in Python\n",
        "\n",
        "\n",
        "# 1. Dot Product (Manual calculation without libraries)\n",
        "# The dot product multiplies corresponding elements of two vectors and sums the results.\n",
        "\n",
        "def dot_product(vec1, vec2):\n",
        "    \"\"\"\n",
        "    Calculate the dot product of two vectors.\n",
        "\n",
        "    Parameters:\n",
        "    vec1 (list of numbers): First vector\n",
        "    vec2 (list of numbers): Second vector\n",
        "\n",
        "    Returns:\n",
        "    number: The dot product result\n",
        "    \"\"\"\n",
        "    # zip pairs elements from vec1 and vec2: (vec1[0], vec2[0]), (vec1[1], vec2[1]), etc.\n",
        "    product_sum = 0\n",
        "    for x, y in zip(vec1, vec2):\n",
        "        product_sum += x * y  # multiply and add to sum\n",
        "    return product_sum\n",
        "\n",
        "# Example vectors\n",
        "v1 = [1, 2]\n",
        "v2 = [3, 4]\n",
        "\n",
        "print(\"Dot product (manual):\", dot_product(v1, v2))\n",
        "# Expected output: 1*3 + 2*4 = 3 + 8 = 11\n",
        "\n",
        "\n",
        "\n"
      ]
    },
    {
      "cell_type": "code",
      "source": [
        "# 2. Matrix Multiplication (Manual, without libraries)\n",
        "# Multiply two matrices by multiplying rows of first matrix with columns of second matrix.\n",
        "\n",
        "def matrix_multiply(A, B):\n",
        "    \"\"\"\n",
        "    Multiply two matrices A and B.\n",
        "\n",
        "    Parameters:\n",
        "    A (list of lists): First matrix\n",
        "    B (list of lists): Second matrix\n",
        "\n",
        "    Returns:\n",
        "    list of lists: Resultant matrix after multiplication\n",
        "    \"\"\"\n",
        "    rows_A = len(A)\n",
        "    cols_A = len(A[0])\n",
        "    rows_B = len(B)\n",
        "    cols_B = len(B[0])\n",
        "\n",
        "    # Check if multiplication is possible (columns in A == rows in B)\n",
        "    if cols_A != rows_B:\n",
        "        raise ValueError(\"Cannot multiply: number of columns in A must equal number of rows in B.\")\n",
        "\n",
        "    # Create result matrix with zeros\n",
        "    result = []\n",
        "    for i in range(rows_A):\n",
        "        row = []\n",
        "        for j in range(cols_B):\n",
        "            sum_product = 0\n",
        "            for k in range(cols_A):\n",
        "                sum_product += A[i][k] * B[k][j]\n",
        "            row.append(sum_product)\n",
        "        result.append(row)\n",
        "    return result\n",
        "\n",
        "# Example matrices\n",
        "A = [\n",
        "    [1, 2],\n",
        "    [3, 4]\n",
        "]\n",
        "\n",
        "B = [\n",
        "    [2, 0],\n",
        "    [1, 2]\n",
        "]\n",
        "\n",
        "print(\"Matrix multiplication (manual):\")\n",
        "result = matrix_multiply(A, B)\n",
        "for row in result:\n",
        "    print(row)\n",
        "# Expected output:\n",
        "# [ (1*2 + 2*1), (1*0 + 2*2) ] => [4, 4]\n",
        "# [ (3*2 + 4*1), (3*0 + 4*2) ] => [10, 8]\n",
        "\n"
      ],
      "metadata": {
        "colab": {
          "base_uri": "https://localhost:8080/"
        },
        "id": "CaLzeVEKkcg7",
        "outputId": "bdbc6fa0-911f-4a47-a8d8-49ff8538cbc3"
      },
      "execution_count": 2,
      "outputs": [
        {
          "output_type": "stream",
          "name": "stdout",
          "text": [
            "Matrix multiplication (manual):\n",
            "[4, 4]\n",
            "[10, 8]\n"
          ]
        }
      ]
    },
    {
      "cell_type": "code",
      "source": [
        "\n",
        "\n",
        "# 3. Using NumPy for Dot Product and Matrix Multiplication\n",
        "# NumPy is a powerful Python library for numerical computing.\n",
        "\n",
        "import numpy as np\n",
        "\n",
        "# Convert lists to numpy arrays\n",
        "v1_np = np.array(v1)\n",
        "v2_np = np.array(v2)\n",
        "\n",
        "print(\"Dot product (NumPy):\", np.dot(v1_np, v2_np))\n",
        "# Output should be same as manual dot product: 11\n",
        "\n",
        "A_np = np.array(A)\n",
        "B_np = np.array(B)\n",
        "\n",
        "print(\"Matrix multiplication (NumPy):\")\n",
        "print(np.matmul(A_np, B_np))\n",
        "# Output should be:\n",
        "# [[ 4  4]\n",
        "#  [10  8]]\n"
      ],
      "metadata": {
        "colab": {
          "base_uri": "https://localhost:8080/"
        },
        "id": "fvNkSWLfkheF",
        "outputId": "3f9a662a-e923-4fa7-b6ef-eb1af94104fb"
      },
      "execution_count": 3,
      "outputs": [
        {
          "output_type": "stream",
          "name": "stdout",
          "text": [
            "Dot product (NumPy): 11\n",
            "Matrix multiplication (NumPy):\n",
            "[[ 4  4]\n",
            " [10  8]]\n"
          ]
        }
      ]
    }
  ]
}