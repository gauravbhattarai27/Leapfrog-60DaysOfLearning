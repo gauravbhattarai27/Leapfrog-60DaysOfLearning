{
  "nbformat": 4,
  "nbformat_minor": 0,
  "metadata": {
    "colab": {
      "provenance": []
    },
    "kernelspec": {
      "name": "python3",
      "display_name": "Python 3"
    },
    "language_info": {
      "name": "python"
    }
  },
  "cells": [
    {
      "cell_type": "code",
      "execution_count": 3,
      "metadata": {
        "colab": {
          "base_uri": "https://localhost:8080/"
        },
        "id": "HXcyIjhu3JYM",
        "outputId": "d41546d7-c3e9-448d-b88e-a2919ef48b89"
      },
      "outputs": [
        {
          "output_type": "execute_result",
          "data": {
            "text/plain": [
              "891"
            ]
          },
          "metadata": {},
          "execution_count": 3
        }
      ],
      "source": [
        "import pandas as pd\n",
        "import sqlite3\n",
        "\n",
        "# Load Titanic dataset\n",
        "url = \"https://raw.githubusercontent.com/datasciencedojo/datasets/master/titanic.csv\"\n",
        "df = pd.read_csv(url)\n",
        "\n",
        "# Create SQLite DB in memory\n",
        "conn = sqlite3.connect(\":memory:\")\n",
        "df.to_sql(\"titanic\", conn, index=False, if_exists=\"replace\")\n",
        "\n"
      ]
    },
    {
      "cell_type": "code",
      "source": [
        "# 1. Show first 5 passengers\n",
        "print(pd.read_sql(\"SELECT * FROM titanic LIMIT 5\", conn))\n",
        "\n"
      ],
      "metadata": {
        "colab": {
          "base_uri": "https://localhost:8080/"
        },
        "id": "D-gpHxPV4XPI",
        "outputId": "332bac27-5ffb-4b77-fd03-98b87813ba01"
      },
      "execution_count": 4,
      "outputs": [
        {
          "output_type": "stream",
          "name": "stdout",
          "text": [
            "   PassengerId  Survived  Pclass  \\\n",
            "0            1         0       3   \n",
            "1            2         1       1   \n",
            "2            3         1       3   \n",
            "3            4         1       1   \n",
            "4            5         0       3   \n",
            "\n",
            "                                                Name     Sex   Age  SibSp  \\\n",
            "0                            Braund, Mr. Owen Harris    male  22.0      1   \n",
            "1  Cumings, Mrs. John Bradley (Florence Briggs Th...  female  38.0      1   \n",
            "2                             Heikkinen, Miss. Laina  female  26.0      0   \n",
            "3       Futrelle, Mrs. Jacques Heath (Lily May Peel)  female  35.0      1   \n",
            "4                           Allen, Mr. William Henry    male  35.0      0   \n",
            "\n",
            "   Parch            Ticket     Fare Cabin Embarked  \n",
            "0      0         A/5 21171   7.2500  None        S  \n",
            "1      0          PC 17599  71.2833   C85        C  \n",
            "2      0  STON/O2. 3101282   7.9250  None        S  \n",
            "3      0            113803  53.1000  C123        S  \n",
            "4      0            373450   8.0500  None        S  \n"
          ]
        }
      ]
    },
    {
      "cell_type": "code",
      "source": [
        "# 2. Count how many passengers survived\n",
        "print(pd.read_sql(\"SELECT survived, COUNT(*) as count FROM titanic GROUP BY survived\", conn))\n",
        "\n"
      ],
      "metadata": {
        "colab": {
          "base_uri": "https://localhost:8080/"
        },
        "id": "T9fXlc0W5akt",
        "outputId": "81246d95-b361-4f4f-d56e-029aa01ec45e"
      },
      "execution_count": 5,
      "outputs": [
        {
          "output_type": "stream",
          "name": "stdout",
          "text": [
            "   Survived  count\n",
            "0         0    549\n",
            "1         1    342\n"
          ]
        }
      ]
    },
    {
      "cell_type": "code",
      "source": [
        "# 3. Average age by class\n",
        "print(pd.read_sql(\"SELECT pclass, AVG(age) as avg_age FROM titanic GROUP BY pclass\", conn))\n",
        "\n"
      ],
      "metadata": {
        "colab": {
          "base_uri": "https://localhost:8080/"
        },
        "id": "mMhY4Wak5b6_",
        "outputId": "76f2ddcf-a10c-4408-f30c-8fd6201ef93a"
      },
      "execution_count": 6,
      "outputs": [
        {
          "output_type": "stream",
          "name": "stdout",
          "text": [
            "   Pclass    avg_age\n",
            "0       1  38.233441\n",
            "1       2  29.877630\n",
            "2       3  25.140620\n"
          ]
        }
      ]
    },
    {
      "cell_type": "code",
      "source": [
        "# 4. Number of survivors by gender\n",
        "print(pd.read_sql(\"\"\"\n",
        "    SELECT sex, COUNT(*) as survivors\n",
        "    FROM titanic\n",
        "    WHERE survived = 1\n",
        "    GROUP BY sex\n",
        "\"\"\", conn))\n",
        "\n"
      ],
      "metadata": {
        "colab": {
          "base_uri": "https://localhost:8080/"
        },
        "id": "wGxSRcqe5dI_",
        "outputId": "1a137d5b-f45c-4833-f9fc-ae69997b6ed6"
      },
      "execution_count": 7,
      "outputs": [
        {
          "output_type": "stream",
          "name": "stdout",
          "text": [
            "      Sex  survivors\n",
            "0  female        233\n",
            "1    male        109\n"
          ]
        }
      ]
    },
    {
      "cell_type": "code",
      "source": [
        "# 5. Top 5 oldest passengers who survived\n",
        "print(pd.read_sql(\"\"\"\n",
        "    SELECT name, age\n",
        "    FROM titanic\n",
        "    WHERE survived = 1 AND age IS NOT NULL\n",
        "    ORDER BY age DESC\n",
        "    LIMIT 5\n",
        "\"\"\", conn))\n"
      ],
      "metadata": {
        "colab": {
          "base_uri": "https://localhost:8080/"
        },
        "id": "LCdtiT235eln",
        "outputId": "477f72bf-f356-4505-ec27-1b2a5fd4eb52"
      },
      "execution_count": 8,
      "outputs": [
        {
          "output_type": "stream",
          "name": "stdout",
          "text": [
            "                                        Name   Age\n",
            "0       Barkworth, Mr. Algernon Henry Wilson  80.0\n",
            "1          Andrews, Miss. Kornelia Theodosia  63.0\n",
            "2                     Turkula, Mrs. (Hedwig)  63.0\n",
            "3                         Harris, Mr. George  62.0\n",
            "4  Stone, Mrs. George Nelson (Martha Evelyn)  62.0\n"
          ]
        }
      ]
    },
    {
      "cell_type": "code",
      "source": [],
      "metadata": {
        "id": "hf_yO2YS5g1N"
      },
      "execution_count": 8,
      "outputs": []
    }
  ]
}