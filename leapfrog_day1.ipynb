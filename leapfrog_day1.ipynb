{
  "nbformat": 4,
  "nbformat_minor": 0,
  "metadata": {
    "colab": {
      "provenance": []
    },
    "kernelspec": {
      "name": "python3",
      "display_name": "Python 3"
    },
    "language_info": {
      "name": "python"
    }
  },
  "cells": [
    {
      "cell_type": "markdown",
      "source": [
        " # Day 1 – Python Revision"
      ],
      "metadata": {
        "id": "uCxW1B_QtGHr"
      }
    },
    {
      "cell_type": "code",
      "source": [
        "# 🔹 Topics to Revise Today:\n",
        "# Section\tKey Concepts\n",
        "# 1. Variables & Data Types\tint, float, str, bool, list, tuple, set, dict\n",
        "# 2. Operators\tArithmetic, Assignment, Comparison, Logical, Membership\n",
        "# 3. Conditional Statements\tif, elif, else\n",
        "# 4. Loops\tfor, while, break, continue, range()\n",
        "# 5. Functions\tdef, parameters, return values, default arguments\n",
        "# 6. String & List Methods\t.split(), .join(), slicing, indexing"
      ],
      "metadata": {
        "id": "f_IPupnQtJiL"
      },
      "execution_count": null,
      "outputs": []
    },
    {
      "cell_type": "markdown",
      "source": [
        "1. Variables & Data Types\n",
        " What is a Variable?\n",
        "\n",
        "  A variable stores data in memory. Python is dynamically typed, so you don’t need to declare data types."
      ],
      "metadata": {
        "id": "K-aEU2y0t9Fs"
      }
    },
    {
      "cell_type": "code",
      "source": [
        "x = 10         # int\n",
        "pi = 3.14      # float\n",
        "name = \"AI\"    # str\n",
        "status = True  # bool\n"
      ],
      "metadata": {
        "id": "B-ghvs8StUD1"
      },
      "execution_count": null,
      "outputs": []
    },
    {
      "cell_type": "code",
      "source": [
        "# Common Data Types:\n",
        "# Type\tExample\tDescription\n",
        "# int\tx = 5\tWhole numbers\n",
        "# float\tpi = 3.14\tDecimal numbers\n",
        "# str\tname = \"Gaurav\"\tText values (strings)\n",
        "# bool\tstatus = True\tBoolean (True/False)\n",
        "# list\tnums = [1, 2, 3]\tOrdered, mutable collection\n",
        "# tuple\tt = (1, 2, 3)\tOrdered, immutable collection\n",
        "# set\ts = {1, 2, 3}\tUnordered, no duplicates\n",
        "# dict\td = {\"a\": 1, \"b\": 2}\tKey-value pairs"
      ],
      "metadata": {
        "id": "JkAKdoF7uHja"
      },
      "execution_count": null,
      "outputs": []
    },
    {
      "cell_type": "markdown",
      "source": [
        "# 2. Operators"
      ],
      "metadata": {
        "id": "l3POwNTtuPy7"
      }
    },
    {
      "cell_type": "markdown",
      "source": [
        "Arithmetic Operators"
      ],
      "metadata": {
        "id": "d6cgC8qeuY0V"
      }
    },
    {
      "cell_type": "code",
      "source": [
        "# a + b   # Addition\n",
        "# a - b   # Subtraction\n",
        "# a * b   # Multiplication\n",
        "# a / b   # Division\n",
        "# a // b  # Floor division\n",
        "# a % b   # Modulus (remainder)\n",
        "# a ** b  # Exponentiation\n"
      ],
      "metadata": {
        "id": "xpB8MhIaubQL"
      },
      "execution_count": null,
      "outputs": []
    },
    {
      "cell_type": "markdown",
      "source": [
        "Assignment Operators"
      ],
      "metadata": {
        "id": "0iPV9QvNujy1"
      }
    },
    {
      "cell_type": "code",
      "source": [
        "x = 5\n",
        "x += 3   # x = x + 3\n",
        "x *= 2   # x = x * 2\n"
      ],
      "metadata": {
        "id": "-qPMCYs9ukou"
      },
      "execution_count": null,
      "outputs": []
    },
    {
      "cell_type": "markdown",
      "source": [
        "Comparison Operators"
      ],
      "metadata": {
        "id": "dQke0eBpumzW"
      }
    },
    {
      "cell_type": "code",
      "source": [
        "x == y  # Equal\n",
        "x != y  # Not equal\n",
        "x > y, x < y, x >= y, x <= y\n"
      ],
      "metadata": {
        "id": "KtTIDdQNuott"
      },
      "execution_count": null,
      "outputs": []
    },
    {
      "cell_type": "markdown",
      "source": [
        "Logical Operators"
      ],
      "metadata": {
        "id": "6gNe4cyJuuNo"
      }
    },
    {
      "cell_type": "code",
      "source": [
        "x > 3 and x < 10\n",
        "x > 3 or x < 2\n",
        "not(x > 3)\n"
      ],
      "metadata": {
        "colab": {
          "base_uri": "https://localhost:8080/"
        },
        "id": "EO0j8_wAusTP",
        "outputId": "ce3c20e6-9581-460c-daec-c658f03ee870"
      },
      "execution_count": null,
      "outputs": [
        {
          "output_type": "execute_result",
          "data": {
            "text/plain": [
              "False"
            ]
          },
          "metadata": {},
          "execution_count": 2
        }
      ]
    },
    {
      "cell_type": "markdown",
      "source": [
        "Membership Operators"
      ],
      "metadata": {
        "id": "r0uVJRCJu155"
      }
    },
    {
      "cell_type": "code",
      "source": [
        "3 in [1, 2, 3]       # True\n",
        "\"AI\" not in \"ML AI\"  # False\n"
      ],
      "metadata": {
        "id": "Q4fSVm8Tu2sj"
      },
      "execution_count": null,
      "outputs": []
    },
    {
      "cell_type": "markdown",
      "source": [
        "#Conditional Statements"
      ],
      "metadata": {
        "id": "fWzSMioLvdzE"
      }
    },
    {
      "cell_type": "code",
      "source": [
        "x = 10\n",
        "if x > 0:\n",
        "    print(\"Positive\")\n",
        "elif x == 0:\n",
        "    print(\"Zero\")\n",
        "else:\n",
        "    print(\"Negative\")\n"
      ],
      "metadata": {
        "colab": {
          "base_uri": "https://localhost:8080/"
        },
        "id": "V4sWIhrjvgWw",
        "outputId": "4cae728b-06dc-43db-a62d-94c9ef0619ce"
      },
      "execution_count": null,
      "outputs": [
        {
          "output_type": "stream",
          "name": "stdout",
          "text": [
            "Positive\n"
          ]
        }
      ]
    },
    {
      "cell_type": "markdown",
      "source": [
        "Loops"
      ],
      "metadata": {
        "id": "Q7sTwJ-xvlSw"
      }
    },
    {
      "cell_type": "code",
      "source": [
        "for i in range(5):\n",
        "    print(i)  # 0 to 4\n"
      ],
      "metadata": {
        "id": "a0zkWngvFhAl"
      },
      "execution_count": null,
      "outputs": []
    },
    {
      "cell_type": "code",
      "source": [
        "x = 1\n",
        "while x < 5:\n",
        "    print(x)\n",
        "    x += 1\n"
      ],
      "metadata": {
        "id": "Wj0J6HucFkU_"
      },
      "execution_count": null,
      "outputs": []
    },
    {
      "cell_type": "markdown",
      "source": [
        "break and continue"
      ],
      "metadata": {
        "id": "47HraH_IFmZn"
      }
    },
    {
      "cell_type": "code",
      "source": [
        "for i in range(5):\n",
        "    if i == 3:\n",
        "        break     # Exit loop\n",
        "    print(i)\n",
        "\n",
        "for i in range(5):\n",
        "    if i == 3:\n",
        "        continue  # Skip 3\n",
        "    print(i)\n"
      ],
      "metadata": {
        "id": "pq2M02KKFqEB"
      },
      "execution_count": null,
      "outputs": []
    },
    {
      "cell_type": "markdown",
      "source": [
        "range(start, stop, step)"
      ],
      "metadata": {
        "id": "SDWBtZOnFu7L"
      }
    },
    {
      "cell_type": "code",
      "source": [
        "range(1, 10, 2)  # 1, 3, 5, 7, 9\n"
      ],
      "metadata": {
        "id": "dW4UrweDFvkT"
      },
      "execution_count": null,
      "outputs": []
    },
    {
      "cell_type": "markdown",
      "source": [
        "# Functions"
      ],
      "metadata": {
        "id": "ySfRN1GZFyx3"
      }
    },
    {
      "cell_type": "code",
      "source": [
        "def greet(name):\n",
        "    return f\"Hello, {name}\"\n",
        "\n",
        "print(greet(\"Gaurav\"))\n"
      ],
      "metadata": {
        "colab": {
          "base_uri": "https://localhost:8080/"
        },
        "id": "8YqkazLqF08d",
        "outputId": "fa95890b-441e-4d69-9953-12c3181bacee"
      },
      "execution_count": null,
      "outputs": [
        {
          "output_type": "stream",
          "name": "stdout",
          "text": [
            "Hello, Gaurav\n"
          ]
        }
      ]
    },
    {
      "cell_type": "markdown",
      "source": [
        "Parameters and Defaults"
      ],
      "metadata": {
        "id": "kHLgNTHzF6Ae"
      }
    },
    {
      "cell_type": "code",
      "source": [
        "def power(a, b=2):  # default b=2\n",
        "    return a ** b\n",
        "\n",
        "print(power(3))      # 9\n",
        "print(power(3, 3))   # 27\n"
      ],
      "metadata": {
        "id": "J0WREcLqF6k7"
      },
      "execution_count": null,
      "outputs": []
    },
    {
      "cell_type": "markdown",
      "source": [
        "Return Values"
      ],
      "metadata": {
        "id": "CCw5DRFIGAJf"
      }
    },
    {
      "cell_type": "code",
      "source": [
        "def add(x, y):\n",
        "    return x + y\n"
      ],
      "metadata": {
        "id": "a2rvCP-OGAvo"
      },
      "execution_count": null,
      "outputs": []
    },
    {
      "cell_type": "markdown",
      "source": [
        "String & List Methods"
      ],
      "metadata": {
        "id": "KsK9FQEoGItu"
      }
    },
    {
      "cell_type": "code",
      "source": [
        "s = \"gaurav\"\n",
        "s.upper()       # \"GAURAV\"\n",
        "s.lower()       # \"gaurav\"\n",
        "s[::-1]         # \"varuag\" (reverse)\n",
        "s.split(\"a\")    # ['g', 'ur', 'v']\n",
        "\"-\".join([\"A\", \"I\"])  # \"A-I\"\n"
      ],
      "metadata": {
        "id": "dDOf-dejGKIc",
        "outputId": "691baddd-1d34-4db2-dcf1-3eed82d335a5",
        "colab": {
          "base_uri": "https://localhost:8080/",
          "height": 35
        }
      },
      "execution_count": null,
      "outputs": [
        {
          "output_type": "execute_result",
          "data": {
            "text/plain": [
              "'A-I'"
            ],
            "application/vnd.google.colaboratory.intrinsic+json": {
              "type": "string"
            }
          },
          "metadata": {},
          "execution_count": 2
        }
      ]
    },
    {
      "cell_type": "code",
      "source": [
        "lst = [1, 2, 3]\n",
        "lst.append(4)        # Add element\n",
        "lst.pop()            # Remove last\n",
        "lst[0]               # Access first element\n",
        "lst[1:3]             # Slice [2, 3]\n"
      ],
      "metadata": {
        "id": "5BsxZk_WGMl_",
        "outputId": "57f7abc4-bc8b-45ea-e07e-57bd8ee3805f",
        "colab": {
          "base_uri": "https://localhost:8080/"
        }
      },
      "execution_count": null,
      "outputs": [
        {
          "output_type": "execute_result",
          "data": {
            "text/plain": [
              "[2, 3]"
            ]
          },
          "metadata": {},
          "execution_count": 3
        }
      ]
    }
  ]
}